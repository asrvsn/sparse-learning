{
 "cells": [
  {
   "cell_type": "code",
   "execution_count": 1,
   "metadata": {},
   "outputs": [],
   "source": [
    "import torch\n",
    "import torch.nn as nn\n",
    "import torch.nn.functional as F\n",
    "import torch.optim as optim\n",
    "\n",
    "import numpy as np\n",
    "import matplotlib.pyplot as plt\n",
    "import pandas as pd\n",
    "\n",
    "import utils as u"
   ]
  },
  {
   "cell_type": "code",
   "execution_count": 2,
   "metadata": {},
   "outputs": [],
   "source": [
    "use_cuda = torch.cuda.is_available()\n",
    "device = torch.device(\"cuda\" if use_cuda else \"cpu\")"
   ]
  },
  {
   "cell_type": "markdown",
   "metadata": {},
   "source": [
    "## Data"
   ]
  },
  {
   "cell_type": "code",
   "execution_count": 3,
   "metadata": {},
   "outputs": [],
   "source": [
    "train_size = 100\n",
    "test_size = 1000\n",
    "\n",
    "X_train = torch.from_numpy(np.linspace(1,10,train_size)).to(device)\n",
    "X_test = torch.from_numpy(np.linspace(1,100,test_size)).to(device)\n",
    "Y_train = X_train * 3\n",
    "Y_test = X_test * 3"
   ]
  },
  {
   "cell_type": "markdown",
   "metadata": {},
   "source": [
    "## Model"
   ]
  },
  {
   "cell_type": "code",
   "execution_count": 4,
   "metadata": {},
   "outputs": [],
   "source": [
    "class Net(nn.Module):\n",
    "    def __init__(self):\n",
    "        super(Net, self).__init__()\n",
    "        self.fc1 = nn.Linear(1, 10)\n",
    "        self.fc2 = nn.Linear(10, 1)\n",
    "        self.criterion = F.mse_loss\n",
    "    def forward(self, x):\n",
    "        x = self.fc1(x)\n",
    "        x = self.fc2(x)\n",
    "        return x\n",
    "    def post_step(self):\n",
    "        pass\n",
    "    \n",
    "class SparseNet(nn.Module):\n",
    "    def __init__(self, gamma = 0.3):\n",
    "        super(SparseNet, self).__init__()\n",
    "        self.fc1 = nn.Linear(1, 10)\n",
    "        self.fc2 = nn.Linear(10, 1)\n",
    "        def criterion(x, y):\n",
    "            regularization_loss = 0\n",
    "            for param in self.parameters():\n",
    "                regularization_loss += torch.abs(param).norm(1)\n",
    "            return F.mse_loss(x, y) + gamma * regularization_loss\n",
    "        self.criterion = criterion\n",
    "    def forward(self, x):\n",
    "        x = self.fc1(x)\n",
    "        x = self.fc2(x)\n",
    "        return x\n",
    "    def post_step(self):\n",
    "        threshold = 1e-3\n",
    "        with torch.no_grad():\n",
    "            self.fc1.weight.data = u.prune(self.fc1.weight.data, threshold)\n",
    "            self.fc2.weight.data = u.prune(self.fc2.weight.data, threshold)"
   ]
  },
  {
   "cell_type": "code",
   "execution_count": 5,
   "metadata": {},
   "outputs": [],
   "source": [
    "log_interval = 20\n",
    "\n",
    "def train(model, optimizer, epoch):\n",
    "    model.train()\n",
    "    avg_loss = 0\n",
    "    for i, (x, y) in enumerate(zip(X_train, Y_train)):\n",
    "        optimizer.zero_grad()\n",
    "        output = model(x.unsqueeze(0))\n",
    "        loss = model.criterion(output, y)\n",
    "        avg_loss += loss.item()\n",
    "        loss.backward()\n",
    "        optimizer.step()\n",
    "        # Run post-optimization step. For the sparse network, this is weight pruning. \n",
    "        model.post_step()\n",
    "#         if i % log_interval == 0:\n",
    "#             print('[Train] Epoch: {}, Loss: {:.6f}'.format(epoch, loss.item()))\n",
    "    avg_loss /= len(X_train)\n",
    "    return avg_loss\n",
    "        \n",
    "def test(model, epoch):\n",
    "    model.eval()\n",
    "    test_loss = 0\n",
    "    result = []\n",
    "    with torch.no_grad():\n",
    "        for (x, y) in zip(X_test, Y_test):\n",
    "            output = model(x.unsqueeze(0))\n",
    "            test_loss += model.criterion(output, y).item()\n",
    "            result.append([x.item(), output.item(), y.item()])\n",
    "        test_loss /= len(X_test)\n",
    "    print('\\n[Test] Epoch: {}, Average Loss: {:.6f}'.format(epoch, test_loss))\n",
    "    return pd.DataFrame(data=result, columns=['x', 'prediction', 'y']), test_loss\n",
    "\n",
    "def run(model, optimizer, epochs, early_stop=True):\n",
    "    train_data, test_df, test_loss = [], None, 0\n",
    "    for epoch in range(epochs):\n",
    "        train_loss = train(model, optimizer, epoch+1)\n",
    "        train_data.append([epoch, train_loss])\n",
    "        test_df, new_test_loss = test(model, epoch+1)\n",
    "        if abs(new_test_loss - test_loss) < 1e-4 and early_stop:\n",
    "            break\n",
    "        test_loss = new_test_loss\n",
    "    train_df = pd.DataFrame(data=train_data, columns=['epoch', 'loss'])\n",
    "    return train_df, test_df"
   ]
  },
  {
   "cell_type": "markdown",
   "metadata": {},
   "source": [
    "## Experiments"
   ]
  },
  {
   "cell_type": "markdown",
   "metadata": {},
   "source": [
    "### Baseline"
   ]
  },
  {
   "cell_type": "code",
   "execution_count": 6,
   "metadata": {},
   "outputs": [
    {
     "name": "stdout",
     "output_type": "stream",
     "text": [
      "\n",
      "[Test] Epoch: 1, Average Loss: 5.966403\n",
      "\n",
      "[Test] Epoch: 2, Average Loss: 4.880540\n",
      "\n",
      "[Test] Epoch: 3, Average Loss: 3.991582\n",
      "\n",
      "[Test] Epoch: 4, Average Loss: 3.263961\n",
      "\n",
      "[Test] Epoch: 5, Average Loss: 2.668512\n",
      "\n",
      "[Test] Epoch: 6, Average Loss: 2.181326\n",
      "\n",
      "[Test] Epoch: 7, Average Loss: 1.782799\n",
      "\n",
      "[Test] Epoch: 8, Average Loss: 1.456860\n",
      "\n",
      "[Test] Epoch: 9, Average Loss: 1.190340\n",
      "\n",
      "[Test] Epoch: 10, Average Loss: 0.972447\n",
      "\n",
      "[Test] Epoch: 11, Average Loss: 0.794340\n",
      "\n",
      "[Test] Epoch: 12, Average Loss: 0.648778\n",
      "\n",
      "[Test] Epoch: 13, Average Loss: 0.529833\n",
      "\n",
      "[Test] Epoch: 14, Average Loss: 0.432652\n",
      "\n",
      "[Test] Epoch: 15, Average Loss: 0.353263\n",
      "\n",
      "[Test] Epoch: 16, Average Loss: 0.288417\n",
      "\n",
      "[Test] Epoch: 17, Average Loss: 0.235456\n",
      "\n",
      "[Test] Epoch: 18, Average Loss: 0.192206\n",
      "\n",
      "[Test] Epoch: 19, Average Loss: 0.156891\n",
      "\n",
      "[Test] Epoch: 20, Average Loss: 0.128057\n",
      "\n",
      "[Test] Epoch: 21, Average Loss: 0.104516\n",
      "\n",
      "[Test] Epoch: 22, Average Loss: 0.085299\n",
      "\n",
      "[Test] Epoch: 23, Average Loss: 0.069612\n",
      "\n",
      "[Test] Epoch: 24, Average Loss: 0.056807\n",
      "\n",
      "[Test] Epoch: 25, Average Loss: 0.046356\n",
      "\n",
      "[Test] Epoch: 26, Average Loss: 0.037827\n",
      "\n",
      "[Test] Epoch: 27, Average Loss: 0.030866\n",
      "\n",
      "[Test] Epoch: 28, Average Loss: 0.025185\n",
      "\n",
      "[Test] Epoch: 29, Average Loss: 0.020549\n",
      "\n",
      "[Test] Epoch: 30, Average Loss: 0.016767\n",
      "\n",
      "[Test] Epoch: 31, Average Loss: 0.013680\n",
      "\n",
      "[Test] Epoch: 32, Average Loss: 0.011161\n",
      "\n",
      "[Test] Epoch: 33, Average Loss: 0.009106\n",
      "\n",
      "[Test] Epoch: 34, Average Loss: 0.007429\n",
      "\n",
      "[Test] Epoch: 35, Average Loss: 0.006061\n",
      "\n",
      "[Test] Epoch: 36, Average Loss: 0.004945\n",
      "\n",
      "[Test] Epoch: 37, Average Loss: 0.004034\n",
      "\n",
      "[Test] Epoch: 38, Average Loss: 0.003291\n",
      "\n",
      "[Test] Epoch: 39, Average Loss: 0.002685\n",
      "\n",
      "[Test] Epoch: 40, Average Loss: 0.002190\n",
      "\n",
      "[Test] Epoch: 41, Average Loss: 0.001787\n",
      "\n",
      "[Test] Epoch: 42, Average Loss: 0.001458\n",
      "\n",
      "[Test] Epoch: 43, Average Loss: 0.001189\n",
      "\n",
      "[Test] Epoch: 44, Average Loss: 0.000970\n",
      "\n",
      "[Test] Epoch: 45, Average Loss: 0.000791\n",
      "\n",
      "[Test] Epoch: 46, Average Loss: 0.000646\n",
      "\n",
      "[Test] Epoch: 47, Average Loss: 0.000527\n",
      "\n",
      "[Test] Epoch: 48, Average Loss: 0.000430\n"
     ]
    }
   ],
   "source": [
    "model = Net().double().to(device)\n",
    "optimizer = optim.SGD(params=model.parameters(), lr=1e-3)\n",
    "train_df, test_df = run(model, optimizer, 100)"
   ]
  },
  {
   "cell_type": "code",
   "execution_count": 7,
   "metadata": {
    "scrolled": true
   },
   "outputs": [
    {
     "name": "stderr",
     "output_type": "stream",
     "text": [
      "/home/anand/dev/pytorch-venv/lib/python3.5/site-packages/matplotlib/pyplot.py:3261: RuntimeWarning: Second argument 'y' is ambiguous: could be a color spec but is in data. Using as data.\n",
      "Either rename the entry in data or use three arguments to plot.\n",
      "  ret = ax.plot(*args, **kwargs)\n"
     ]
    },
    {
     "data": {
      "image/png": "[encoded data removed]",
      "text/plain": [
       "<matplotlib.figure.Figure at 0x7f5eca9be978>"
      ]
     },
     "metadata": {},
     "output_type": "display_data"
    }
   ],
   "source": [
    "u.plot_df(test_df)"
   ]
  },
  {
   "cell_type": "code",
   "execution_count": 8,
   "metadata": {
    "scrolled": true
   },
   "outputs": [
    {
     "data": {
      "image/png": "[encoded data removed]",
      "text/plain": [
       "<matplotlib.figure.Figure at 0x7f5ec1f9a518>"
      ]
     },
     "metadata": {},
     "output_type": "display_data"
    }
   ],
   "source": [
    "u.plot_layers(model)"
   ]
  },
  {
   "cell_type": "markdown",
   "metadata": {},
   "source": [
    "### L1 activation penalty"
   ]
  },
  {
   "cell_type": "code",
   "execution_count": null,
   "metadata": {
    "scrolled": true
   },
   "outputs": [
    {
     "name": "stdout",
     "output_type": "stream",
     "text": [
      "\n",
      "[Test] Epoch: 1, Average Loss: 17.970163\n",
      "\n",
      "[Test] Epoch: 2, Average Loss: 16.084466\n",
      "\n",
      "[Test] Epoch: 3, Average Loss: 14.445457\n",
      "\n",
      "[Test] Epoch: 4, Average Loss: 13.165957\n",
      "\n",
      "[Test] Epoch: 5, Average Loss: 12.399760\n",
      "\n",
      "[Test] Epoch: 6, Average Loss: 11.811070\n",
      "\n",
      "[Test] Epoch: 7, Average Loss: 11.270765\n",
      "\n",
      "[Test] Epoch: 8, Average Loss: 10.835082\n",
      "\n",
      "[Test] Epoch: 9, Average Loss: 10.185383\n",
      "\n",
      "[Test] Epoch: 10, Average Loss: 9.470379\n",
      "\n",
      "[Test] Epoch: 11, Average Loss: 8.837232\n",
      "\n",
      "[Test] Epoch: 12, Average Loss: 8.217086\n",
      "\n",
      "[Test] Epoch: 13, Average Loss: 7.762818\n",
      "\n",
      "[Test] Epoch: 14, Average Loss: 7.329360\n",
      "\n",
      "[Test] Epoch: 15, Average Loss: 7.051163\n",
      "\n",
      "[Test] Epoch: 16, Average Loss: 6.887375\n",
      "\n",
      "[Test] Epoch: 17, Average Loss: 6.691988\n",
      "\n",
      "[Test] Epoch: 18, Average Loss: 6.222940\n",
      "\n",
      "[Test] Epoch: 19, Average Loss: 5.820456\n",
      "\n",
      "[Test] Epoch: 20, Average Loss: 5.397488\n",
      "\n",
      "[Test] Epoch: 21, Average Loss: 5.036667\n",
      "\n",
      "[Test] Epoch: 22, Average Loss: 4.653597\n",
      "\n",
      "[Test] Epoch: 23, Average Loss: 4.327176\n",
      "\n",
      "[Test] Epoch: 24, Average Loss: 4.005288\n",
      "\n",
      "[Test] Epoch: 25, Average Loss: 3.713901\n",
      "\n",
      "[Test] Epoch: 26, Average Loss: 3.443314\n",
      "\n",
      "[Test] Epoch: 27, Average Loss: 3.198849\n",
      "\n",
      "[Test] Epoch: 28, Average Loss: 2.996649\n",
      "\n",
      "[Test] Epoch: 29, Average Loss: 2.807984\n",
      "\n",
      "[Test] Epoch: 30, Average Loss: 2.648272\n",
      "\n",
      "[Test] Epoch: 31, Average Loss: 2.516472\n",
      "\n",
      "[Test] Epoch: 32, Average Loss: 2.412516\n",
      "\n",
      "[Test] Epoch: 33, Average Loss: 2.343713\n",
      "\n",
      "[Test] Epoch: 34, Average Loss: 2.321905\n",
      "\n",
      "[Test] Epoch: 35, Average Loss: 2.301293\n",
      "\n",
      "[Test] Epoch: 36, Average Loss: 2.278550\n",
      "\n",
      "[Test] Epoch: 37, Average Loss: 2.254159\n",
      "\n",
      "[Test] Epoch: 38, Average Loss: 2.226725\n",
      "\n",
      "[Test] Epoch: 39, Average Loss: 2.198280\n",
      "\n",
      "[Test] Epoch: 40, Average Loss: 2.168856\n",
      "\n",
      "[Test] Epoch: 41, Average Loss: 2.135698\n",
      "\n",
      "[Test] Epoch: 42, Average Loss: 2.100508\n",
      "\n",
      "[Test] Epoch: 43, Average Loss: 2.063988\n",
      "\n",
      "[Test] Epoch: 44, Average Loss: 2.025302\n",
      "\n",
      "[Test] Epoch: 45, Average Loss: 1.981485\n",
      "\n",
      "[Test] Epoch: 46, Average Loss: 1.936488\n",
      "\n",
      "[Test] Epoch: 47, Average Loss: 1.897229\n",
      "\n",
      "[Test] Epoch: 48, Average Loss: 1.864548\n",
      "\n",
      "[Test] Epoch: 49, Average Loss: 1.830351\n",
      "\n",
      "[Test] Epoch: 50, Average Loss: 1.793407\n",
      "\n",
      "[Test] Epoch: 51, Average Loss: 1.755707\n",
      "\n",
      "[Test] Epoch: 52, Average Loss: 1.717118\n",
      "\n",
      "[Test] Epoch: 53, Average Loss: 1.682567\n",
      "\n",
      "[Test] Epoch: 54, Average Loss: 1.646434\n",
      "\n",
      "[Test] Epoch: 55, Average Loss: 1.616569\n",
      "\n",
      "[Test] Epoch: 56, Average Loss: 1.587054\n",
      "\n",
      "[Test] Epoch: 57, Average Loss: 1.555133\n",
      "\n",
      "[Test] Epoch: 58, Average Loss: 1.522183\n",
      "\n",
      "[Test] Epoch: 59, Average Loss: 1.487231\n",
      "\n",
      "[Test] Epoch: 60, Average Loss: 1.455052\n",
      "\n",
      "[Test] Epoch: 61, Average Loss: 1.433639\n",
      "\n",
      "[Test] Epoch: 62, Average Loss: 1.412623\n",
      "\n",
      "[Test] Epoch: 63, Average Loss: 1.391276\n",
      "\n",
      "[Test] Epoch: 64, Average Loss: 1.368709\n",
      "\n",
      "[Test] Epoch: 65, Average Loss: 1.344890\n",
      "\n",
      "[Test] Epoch: 66, Average Loss: 1.319878\n",
      "\n",
      "[Test] Epoch: 67, Average Loss: 1.293835\n",
      "\n",
      "[Test] Epoch: 68, Average Loss: 1.266961\n",
      "\n",
      "[Test] Epoch: 69, Average Loss: 1.239007\n",
      "\n",
      "[Test] Epoch: 70, Average Loss: 1.218217\n",
      "\n",
      "[Test] Epoch: 71, Average Loss: 1.197853\n",
      "\n",
      "[Test] Epoch: 72, Average Loss: 1.184476\n",
      "\n",
      "[Test] Epoch: 73, Average Loss: 1.170736\n",
      "\n",
      "[Test] Epoch: 74, Average Loss: 1.158067\n",
      "\n",
      "[Test] Epoch: 75, Average Loss: 1.143182\n",
      "\n",
      "[Test] Epoch: 76, Average Loss: 1.128974\n",
      "\n",
      "[Test] Epoch: 77, Average Loss: 1.113649\n",
      "\n",
      "[Test] Epoch: 78, Average Loss: 1.098059\n",
      "\n",
      "[Test] Epoch: 79, Average Loss: 1.081059\n",
      "\n",
      "[Test] Epoch: 80, Average Loss: 1.063929\n",
      "\n",
      "[Test] Epoch: 81, Average Loss: 1.050880\n",
      "\n",
      "[Test] Epoch: 82, Average Loss: 1.041887\n",
      "\n",
      "[Test] Epoch: 83, Average Loss: 1.042167\n",
      "\n",
      "[Test] Epoch: 84, Average Loss: 1.042451\n"
     ]
    }
   ],
   "source": [
    "sparse_model = SparseNet().double().to(device)\n",
    "optimizer = optim.SGD(params=sparse_model.parameters(), lr=1e-3)\n",
    "train_df, test_df = run(sparse_model, optimizer, 200)"
   ]
  },
  {
   "cell_type": "code",
   "execution_count": null,
   "metadata": {
    "scrolled": true
   },
   "outputs": [],
   "source": [
    "u.plot_df(test_df)"
   ]
  },
  {
   "cell_type": "code",
   "execution_count": null,
   "metadata": {
    "scrolled": true
   },
   "outputs": [],
   "source": [
    "u.layer_parameters(sparse_model.fc1)"
   ]
  },
  {
   "cell_type": "code",
   "execution_count": null,
   "metadata": {
    "scrolled": false
   },
   "outputs": [],
   "source": [
    "u.layer_parameters(sparse_model.fc2)"
   ]
  },
  {
   "cell_type": "code",
   "execution_count": null,
   "metadata": {},
   "outputs": [],
   "source": [
    "u.plot_layers(sparse_model)"
   ]
  }
 ],
 "metadata": {
  "kernelspec": {
   "display_name": "Python 3",
   "language": "python",
   "name": "python3"
  },
  "language_info": {
   "codemirror_mode": {
    "name": "ipython",
    "version": 3
   },
   "file_extension": ".py",
   "mimetype": "text/x-python",
   "name": "python",
   "nbconvert_exporter": "python",
   "pygments_lexer": "ipython3",
   "version": "3.5.2"
  }
 },
 "nbformat": 4,
 "nbformat_minor": 2
}
