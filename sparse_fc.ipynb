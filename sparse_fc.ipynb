{
 "cells": [
  {
   "cell_type": "markdown",
   "metadata": {},
   "source": [
    "# Learning a linear relation with sparsity regularization\n",
    "Here we show different ways to learn a simple relation, $y=3x$, and how sparsity regularization leads to a more naturally symbol-like representation."
   ]
  },
  {
   "cell_type": "code",
   "execution_count": 1,
   "metadata": {},
   "outputs": [],
   "source": [
    "import torch\n",
    "import torch.nn as nn\n",
    "import torch.nn.functional as F\n",
    "import torch.optim as optim\n",
    "\n",
    "import numpy as np\n",
    "import matplotlib.pyplot as plt\n",
    "import pandas as pd\n",
    "\n",
    "import utils as u"
   ]
  },
  {
   "cell_type": "code",
   "execution_count": 2,
   "metadata": {},
   "outputs": [],
   "source": [
    "use_cuda = torch.cuda.is_available()\n",
    "device = torch.device(\"cuda\" if use_cuda else \"cpu\")"
   ]
  },
  {
   "cell_type": "markdown",
   "metadata": {},
   "source": [
    "## Data"
   ]
  },
  {
   "cell_type": "code",
   "execution_count": 3,
   "metadata": {},
   "outputs": [],
   "source": [
    "train_size = 100\n",
    "test_size = 1000\n",
    "\n",
    "X_train = torch.from_numpy(np.linspace(1,10,train_size)).to(device)\n",
    "X_test = torch.from_numpy(np.linspace(1,100,test_size)).to(device)\n",
    "Y_train = X_train * 3\n",
    "Y_test = X_test * 3"
   ]
  },
  {
   "cell_type": "markdown",
   "metadata": {},
   "source": [
    "## Model"
   ]
  },
  {
   "cell_type": "code",
   "execution_count": 4,
   "metadata": {},
   "outputs": [],
   "source": [
    "class Net(nn.Module):\n",
    "    def __init__(self):\n",
    "        super(Net, self).__init__()\n",
    "        self.fc1 = nn.Linear(1, 10, bias=False)\n",
    "        self.fc2 = nn.Linear(10, 1, bias=False)\n",
    "        self.criterion = F.mse_loss\n",
    "    def forward(self, x):\n",
    "        x = self.fc1(x)\n",
    "        x = self.fc2(x)\n",
    "        return x\n",
    "    def post_step(self):\n",
    "        pass\n",
    "    \n",
    "class SparseNet(nn.Module):\n",
    "    def __init__(self, gamma = 0.3):\n",
    "        super(SparseNet, self).__init__()\n",
    "        self.fc1 = nn.Linear(1, 10, bias=False)\n",
    "        self.fc2 = nn.Linear(10, 1, bias=False)\n",
    "        def criterion(x, y):\n",
    "            regularization_loss = 0\n",
    "            for param in self.parameters():\n",
    "                regularization_loss += torch.abs(param).norm(1)\n",
    "            return F.mse_loss(x, y) + gamma * regularization_loss\n",
    "        self.criterion = criterion\n",
    "    def forward(self, x):\n",
    "        x = self.fc1(x)\n",
    "        x = self.fc2(x)\n",
    "        return x\n",
    "    def post_step(self):\n",
    "        threshold = 1e-3\n",
    "        with torch.no_grad():\n",
    "            self.fc1.weight.data = u.prune(self.fc1.weight.data, threshold)\n",
    "            self.fc2.weight.data = u.prune(self.fc2.weight.data, threshold)"
   ]
  },
  {
   "cell_type": "code",
   "execution_count": 5,
   "metadata": {},
   "outputs": [],
   "source": [
    "log_interval = 20\n",
    "\n",
    "def train(model, optimizer, epoch):\n",
    "    model.train()\n",
    "    avg_loss = 0\n",
    "    for i, (x, y) in enumerate(zip(X_train, Y_train)):\n",
    "        optimizer.zero_grad()\n",
    "        output = model(x.unsqueeze(0))\n",
    "        loss = model.criterion(output, y)\n",
    "        avg_loss += loss.item()\n",
    "        loss.backward()\n",
    "        optimizer.step()\n",
    "        # Run post-optimization step. For the sparse network, this is weight pruning. \n",
    "        model.post_step()\n",
    "#         if i % log_interval == 0:\n",
    "#             print('[Train] Epoch: {}, Loss: {:.6f}'.format(epoch, loss.item()))\n",
    "    avg_loss /= len(X_train)\n",
    "    return avg_loss\n",
    "        \n",
    "def test(model, epoch):\n",
    "    model.eval()\n",
    "    test_loss = 0\n",
    "    result = []\n",
    "    with torch.no_grad():\n",
    "        for (x, y) in zip(X_test, Y_test):\n",
    "            output = model(x.unsqueeze(0))\n",
    "            test_loss += model.criterion(output, y).item()\n",
    "            result.append([x.item(), output.item(), y.item()])\n",
    "        test_loss /= len(X_test)\n",
    "    print('\\n[Test] Epoch: {}, Average Loss: {:.6f}'.format(epoch, test_loss))\n",
    "    return pd.DataFrame(data=result, columns=['x', 'prediction', 'y']), test_loss\n",
    "\n",
    "def run(model, optimizer, epochs, early_stop=True):\n",
    "    train_data, test_df, test_loss = [], None, 0\n",
    "    for epoch in range(epochs):\n",
    "        train_loss = train(model, optimizer, epoch+1)\n",
    "        train_data.append([epoch, train_loss])\n",
    "        test_df, new_test_loss = test(model, epoch+1)\n",
    "        if abs(new_test_loss - test_loss) < 1e-4 and early_stop:\n",
    "            break\n",
    "        test_loss = new_test_loss\n",
    "    train_df = pd.DataFrame(data=train_data, columns=['epoch', 'loss'])\n",
    "    return train_df, test_df"
   ]
  },
  {
   "cell_type": "markdown",
   "metadata": {},
   "source": [
    "## Experiments"
   ]
  },
  {
   "cell_type": "markdown",
   "metadata": {},
   "source": [
    "### Baseline\n",
    "Fully-connected, 1-layer network with 10 hidden nodes, no activation function, and no biases."
   ]
  },
  {
   "cell_type": "code",
   "execution_count": 6,
   "metadata": {},
   "outputs": [
    {
     "name": "stdout",
     "output_type": "stream",
     "text": [
      "\n",
      "[Test] Epoch: 1, Average Loss: 0.000000\n"
     ]
    }
   ],
   "source": [
    "model = Net().double().to(device)\n",
    "optimizer = optim.SGD(params=model.parameters(), lr=1e-3)\n",
    "train_df, test_df = run(model, optimizer, 100)"
   ]
  },
  {
   "cell_type": "code",
   "execution_count": 1,
   "metadata": {
    "scrolled": true
   },
   "outputs": [
    {
     "ename": "NameError",
     "evalue": "name 'u' is not defined",
     "output_type": "error",
     "traceback": [
      "\u001b[0;31m---------------------------------------------------------------------------\u001b[0m",
      "\u001b[0;31mNameError\u001b[0m                                 Traceback (most recent call last)",
      "\u001b[0;32m<ipython-input-1-087ecd004280>\u001b[0m in \u001b[0;36m<module>\u001b[0;34m()\u001b[0m\n\u001b[0;32m----> 1\u001b[0;31m \u001b[0mu\u001b[0m\u001b[0;34m.\u001b[0m\u001b[0mplot_df\u001b[0m\u001b[0;34m(\u001b[0m\u001b[0mtest_df\u001b[0m\u001b[0;34m)\u001b[0m\u001b[0;34m\u001b[0m\u001b[0m\n\u001b[0m",
      "\u001b[0;31mNameError\u001b[0m: name 'u' is not defined"
     ]
    }
   ],
   "source": [
    "u.plot_df(test_df)"
   ]
  },
  {
   "cell_type": "markdown",
   "metadata": {},
   "source": [
    "As seen, the parameters are quite dense by default."
   ]
  },
  {
   "cell_type": "code",
   "execution_count": 8,
   "metadata": {
    "scrolled": true
   },
   "outputs": [
    {
     "data": {
      "image/png": "[encoded data removed]",
      "text/plain": [
       "<matplotlib.figure.Figure at 0x7f67a77b4588>"
      ]
     },
     "metadata": {},
     "output_type": "display_data"
    }
   ],
   "source": [
    "u.plot_layers(model)"
   ]
  },
  {
   "cell_type": "markdown",
   "metadata": {},
   "source": [
    "### L1 activation penalty with pruning"
   ]
  },
  {
   "cell_type": "code",
   "execution_count": 9,
   "metadata": {
    "scrolled": true
   },
   "outputs": [
    {
     "name": "stdout",
     "output_type": "stream",
     "text": [
      "\n",
      "[Test] Epoch: 1, Average Loss: 2.772246\n",
      "\n",
      "[Test] Epoch: 2, Average Loss: 2.707066\n",
      "\n",
      "[Test] Epoch: 3, Average Loss: 2.641003\n",
      "\n",
      "[Test] Epoch: 4, Average Loss: 2.587630\n",
      "\n",
      "[Test] Epoch: 5, Average Loss: 2.534845\n",
      "\n",
      "[Test] Epoch: 6, Average Loss: 2.482948\n",
      "\n",
      "[Test] Epoch: 7, Average Loss: 2.439279\n",
      "\n",
      "[Test] Epoch: 8, Average Loss: 2.402165\n",
      "\n",
      "[Test] Epoch: 9, Average Loss: 2.371931\n",
      "\n",
      "[Test] Epoch: 10, Average Loss: 2.341245\n",
      "\n",
      "[Test] Epoch: 11, Average Loss: 2.309104\n",
      "\n",
      "[Test] Epoch: 12, Average Loss: 2.275388\n",
      "\n",
      "[Test] Epoch: 13, Average Loss: 2.245092\n",
      "\n",
      "[Test] Epoch: 14, Average Loss: 2.216858\n",
      "\n",
      "[Test] Epoch: 15, Average Loss: 2.186672\n",
      "\n",
      "[Test] Epoch: 16, Average Loss: 2.154402\n",
      "\n",
      "[Test] Epoch: 17, Average Loss: 2.119915\n",
      "\n",
      "[Test] Epoch: 18, Average Loss: 2.092706\n",
      "\n",
      "[Test] Epoch: 19, Average Loss: 2.072859\n",
      "\n",
      "[Test] Epoch: 20, Average Loss: 2.051712\n",
      "\n",
      "[Test] Epoch: 21, Average Loss: 2.029179\n",
      "\n",
      "[Test] Epoch: 22, Average Loss: 2.005173\n",
      "\n",
      "[Test] Epoch: 23, Average Loss: 1.980065\n",
      "\n",
      "[Test] Epoch: 24, Average Loss: 1.960241\n",
      "\n",
      "[Test] Epoch: 25, Average Loss: 1.939749\n",
      "\n",
      "[Test] Epoch: 26, Average Loss: 1.918546\n",
      "\n",
      "[Test] Epoch: 27, Average Loss: 1.896588\n",
      "\n",
      "[Test] Epoch: 28, Average Loss: 1.879848\n",
      "\n",
      "[Test] Epoch: 29, Average Loss: 1.865239\n",
      "\n",
      "[Test] Epoch: 30, Average Loss: 1.849732\n",
      "\n",
      "[Test] Epoch: 31, Average Loss: 1.833274\n",
      "\n",
      "[Test] Epoch: 32, Average Loss: 1.815813\n",
      "\n",
      "[Test] Epoch: 33, Average Loss: 1.797296\n",
      "\n",
      "[Test] Epoch: 34, Average Loss: 1.777667\n",
      "\n",
      "[Test] Epoch: 35, Average Loss: 1.756869\n",
      "\n",
      "[Test] Epoch: 36, Average Loss: 1.734846\n",
      "\n",
      "[Test] Epoch: 37, Average Loss: 1.711538\n",
      "\n",
      "[Test] Epoch: 38, Average Loss: 1.686889\n",
      "\n",
      "[Test] Epoch: 39, Average Loss: 1.660839\n",
      "\n",
      "[Test] Epoch: 40, Average Loss: 1.633332\n",
      "\n",
      "[Test] Epoch: 41, Average Loss: 1.604309\n",
      "\n",
      "[Test] Epoch: 42, Average Loss: 1.573715\n",
      "\n",
      "[Test] Epoch: 43, Average Loss: 1.541497\n",
      "\n",
      "[Test] Epoch: 44, Average Loss: 1.507603\n",
      "\n",
      "[Test] Epoch: 45, Average Loss: 1.471985\n",
      "\n",
      "[Test] Epoch: 46, Average Loss: 1.434597\n",
      "\n",
      "[Test] Epoch: 47, Average Loss: 1.395400\n",
      "\n",
      "[Test] Epoch: 48, Average Loss: 1.356864\n",
      "\n",
      "[Test] Epoch: 49, Average Loss: 1.322999\n",
      "\n",
      "[Test] Epoch: 50, Average Loss: 1.293394\n",
      "\n",
      "[Test] Epoch: 51, Average Loss: 1.278230\n",
      "\n",
      "[Test] Epoch: 52, Average Loss: 1.269009\n",
      "\n",
      "[Test] Epoch: 53, Average Loss: 1.259395\n",
      "\n",
      "[Test] Epoch: 54, Average Loss: 1.249371\n",
      "\n",
      "[Test] Epoch: 55, Average Loss: 1.238926\n",
      "\n",
      "[Test] Epoch: 56, Average Loss: 1.228044\n",
      "\n",
      "[Test] Epoch: 57, Average Loss: 1.216711\n",
      "\n",
      "[Test] Epoch: 58, Average Loss: 1.204912\n",
      "\n",
      "[Test] Epoch: 59, Average Loss: 1.192634\n",
      "\n",
      "[Test] Epoch: 60, Average Loss: 1.179862\n",
      "\n",
      "[Test] Epoch: 61, Average Loss: 1.166580\n",
      "\n",
      "[Test] Epoch: 62, Average Loss: 1.152776\n",
      "\n",
      "[Test] Epoch: 63, Average Loss: 1.138435\n",
      "\n",
      "[Test] Epoch: 64, Average Loss: 1.123543\n",
      "\n",
      "[Test] Epoch: 65, Average Loss: 1.108087\n",
      "\n",
      "[Test] Epoch: 66, Average Loss: 1.092052\n",
      "\n",
      "[Test] Epoch: 67, Average Loss: 1.075427\n",
      "\n",
      "[Test] Epoch: 68, Average Loss: 1.058199\n",
      "\n",
      "[Test] Epoch: 69, Average Loss: 1.047490\n",
      "\n",
      "[Test] Epoch: 70, Average Loss: 1.041751\n",
      "\n",
      "[Test] Epoch: 71, Average Loss: 1.041745\n"
     ]
    }
   ],
   "source": [
    "sparse_model = SparseNet().double().to(device)\n",
    "optimizer = optim.SGD(params=sparse_model.parameters(), lr=1e-3)\n",
    "train_df, test_df = run(sparse_model, optimizer, 200)"
   ]
  },
  {
   "cell_type": "code",
   "execution_count": 10,
   "metadata": {
    "scrolled": true
   },
   "outputs": [
    {
     "name": "stderr",
     "output_type": "stream",
     "text": [
      "/home/anand/dev/pytorch-venv/lib/python3.5/site-packages/matplotlib/pyplot.py:3261: RuntimeWarning: Second argument 'y' is ambiguous: could be a color spec but is in data. Using as data.\n",
      "Either rename the entry in data or use three arguments to plot.\n",
      "  ret = ax.plot(*args, **kwargs)\n"
     ]
    },
    {
     "data": {
      "image/png": "[encoded data removed]",
      "text/plain": [
       "<matplotlib.figure.Figure at 0x7f67a043f208>"
      ]
     },
     "metadata": {},
     "output_type": "display_data"
    }
   ],
   "source": [
    "u.plot_df(test_df)"
   ]
  },
  {
   "cell_type": "code",
   "execution_count": 11,
   "metadata": {
    "scrolled": true
   },
   "outputs": [
    {
     "data": {
      "text/plain": [
       "tensor([ 0.0000,  0.0000,  0.0000,  0.0000,  0.0000, -1.7620,  0.0000,  0.0000,\n",
       "         0.0000,  0.0000], device='cuda:0', dtype=torch.float64,\n",
       "       grad_fn=<CatBackward>)"
      ]
     },
     "execution_count": 11,
     "metadata": {},
     "output_type": "execute_result"
    }
   ],
   "source": [
    "u.layer_parameters(sparse_model.fc1)"
   ]
  },
  {
   "cell_type": "code",
   "execution_count": 12,
   "metadata": {
    "scrolled": true
   },
   "outputs": [
    {
     "data": {
      "text/plain": [
       "tensor([ 0.0000,  0.0000,  0.0000,  0.0000,  0.0000, -1.7021,  0.0000,  0.0000,\n",
       "         0.0000,  0.0000], device='cuda:0', dtype=torch.float64,\n",
       "       grad_fn=<CatBackward>)"
      ]
     },
     "execution_count": 12,
     "metadata": {},
     "output_type": "execute_result"
    }
   ],
   "source": [
    "u.layer_parameters(sparse_model.fc2)"
   ]
  },
  {
   "cell_type": "markdown",
   "metadata": {},
   "source": [
    "After sparsity regularization is applied, the network reduces to a single active link. "
   ]
  },
  {
   "cell_type": "code",
   "execution_count": 13,
   "metadata": {},
   "outputs": [
    {
     "data": {
      "image/png": "[encoded data removed]",
      "text/plain": [
       "<matplotlib.figure.Figure at 0x7f67a039de10>"
      ]
     },
     "metadata": {},
     "output_type": "display_data"
    }
   ],
   "source": [
    "u.plot_layers(sparse_model)"
   ]
  }
 ],
 "metadata": {
  "kernelspec": {
   "display_name": "Python 3",
   "language": "python",
   "name": "python3"
  },
  "language_info": {
   "codemirror_mode": {
    "name": "ipython",
    "version": 3
   },
   "file_extension": ".py",
   "mimetype": "text/x-python",
   "name": "python",
   "nbconvert_exporter": "python",
   "pygments_lexer": "ipython3",
   "version": "3.5.2"
  }
 },
 "nbformat": 4,
 "nbformat_minor": 2
}
